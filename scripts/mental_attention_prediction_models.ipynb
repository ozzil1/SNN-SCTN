{
 "cells": [
  {
   "cell_type": "code",
   "execution_count": 1,
   "outputs": [],
   "source": [
    "import numpy as np\n",
    "import pandas as pd\n",
    "import matplotlib.pyplot as plt\n",
    "\n",
    "from scipy.io import loadmat\n",
    "from scipy.signal import butter, filtfilt\n",
    "\n",
    "EEG_FOLDER = f'../datasets/EEG_data_for_Mental_Attention_State_Detection'\n",
    "\n",
    "bands = {\n",
    "    'delta': (1, 4),\n",
    "    'theta': (4, 8),\n",
    "    'alpha': (8, 14),\n",
    "    'beta': (14, 32),\n",
    "    'gamma': (32, 60),\n",
    "}\n",
    "\n",
    "data_root = f'{EEG_FOLDER}/EEG_Data'\n",
    "channels = ['AF3', 'F7', 'F3', 'FC5', 'T7', 'P7', 'O1', 'O2', 'P8', 'T8', 'FC6', 'F4', 'F8', 'AF4']\n"
   ],
   "metadata": {
    "collapsed": false
   }
  },
  {
   "cell_type": "code",
   "execution_count": 2,
   "outputs": [],
   "source": [
    "\n",
    "\n",
    "def bp_filter(data, f_lo, f_hi, fs):\n",
    "    \"\"\" Digital band pass filter (6-th order Butterworth)\n",
    "    Args:\n",
    "        data: numpy.array, time along axis 0\n",
    "        (f_lo, f_hi): frequency band to extract [Hz]\n",
    "        fs: sampling frequency [Hz]\n",
    "    Returns:\n",
    "        data_filt: band-pass filtered data, same shape as data \"\"\"\n",
    "    data_filt = np.zeros_like(data)\n",
    "    f_ny = fs / 2.  # Nyquist frequency\n",
    "    b_lo = f_lo / f_ny  # normalized frequency [0..1]\n",
    "    b_hi = f_hi / f_ny  # normalized frequency [0..1]\n",
    "    # band-pass filter parameters\n",
    "    p_lp = {\"N\":6, \"Wn\":b_hi, \"btype\":\"lowpass\", \"analog\":False, \"output\":\"ba\"}\n",
    "    p_hp = {\"N\":6, \"Wn\":b_lo, \"btype\":\"highpass\", \"analog\":False, \"output\":\"ba\"}\n",
    "    bp_b1, bp_a1 = butter(**p_lp)\n",
    "    bp_b2, bp_a2 = butter(**p_hp)\n",
    "    data_filt = filtfilt(bp_b1, bp_a1, data, axis=0)\n",
    "    data_filt = filtfilt(bp_b2, bp_a2, data_filt, axis=0)\n",
    "    return data_filt\n",
    "\n",
    "\n",
    "#  Function to read in the EEG data and extract the valid lead data, low and high pass filter and z-transform the data.\n",
    "#  Returns a dataframe.\n",
    "def get_EEG_data(data_root, filename):\n",
    "    # Extract the data from one of these files.\n",
    "    hz = fs\n",
    "    #filename = 'eeg_record30.mat'\n",
    "    mat = loadmat(f'{data_root}/{filename}')\n",
    "    data = pd.DataFrame.from_dict(mat[\"o\"][\"data\"][0,0])\n",
    "\n",
    "    # Limit the data to the 7 valid EEG leads.\n",
    "    dat = data.filter(list(range(3, 17)))\n",
    "    dat.columns = list(range(1, 15))\n",
    "    dat = dat.filter([1,2, 3, 4,5,6, 7, 8, 9,10,11,12,13,14,17], axis=1)\n",
    "    labels = ['AF3','F7', 'F3','FC5','T7','P7','O1', 'O2','P8','T8', 'FC6','F4','F8','AF4']  # FP2 should really be AF4\n",
    "    dat.columns = labels\n",
    "\n",
    "    # Filter the data, high pass .5 Hz, low pass 62 Hz.\n",
    "    lo, hi = .5, 62\n",
    "    # Do the filtering.\n",
    "    datf = bp_filter(dat.to_numpy(), lo, hi, hz)\n",
    "\n",
    "    # Convert back to a dataframe.\n",
    "    dat = pd.DataFrame({c: datf[:, i] for i, c in enumerate(labels)})\n",
    "\n",
    "    # Z-transform each column\n",
    "    # dat = dat.apply(zscore)\n",
    "\n",
    "    return dat\n",
    "\n",
    "def get_trial_data(trial):\n",
    "    dat = get_EEG_data(data_root, f'eeg_record{trial}.mat')\n",
    "    return dat\n",
    "\n",
    "def plot_spectrogram(data, channel_name, fs, fmin, fmax, show=True):\n",
    "    # plot the spectrogram\n",
    "    plt.figure(figsize=(14, 5))\n",
    "    Sxx, freqs, bins, im = plt.specgram(data, NFFT=2*fs, Fs=fs,\n",
    "                                         noverlap=fs, cmap='jet')\n",
    "    if show:\n",
    "        plt.ylim(fmin, fmax)\n",
    "        plt.xlabel('Time (s)')\n",
    "        plt.ylabel('Frequency (Hz)')\n",
    "        plt.title(f'ch={channel_name} fs={fs} band=({fmin} - {fmax})Hz')\n",
    "        plt.imshow(Sxx, aspect='auto',\n",
    "                   cmap='jet', origin='lower',\n",
    "                   extent=[bins[0], bins[-1], freqs[0], freqs[-1]],\n",
    "                   vmin=0, vmax=np.max(Sxx[(freqs >= fmin) & (freqs <= fmax)]))\n",
    "        plt.colorbar()\n",
    "    else:\n",
    "        plt.close()\n",
    "    return Sxx"
   ],
   "metadata": {
    "collapsed": false
   }
  },
  {
   "cell_type": "code",
   "execution_count": 3,
   "outputs": [],
   "source": [
    "fs = 128\n",
    "\n",
    "class Subject:\n",
    "\n",
    "    def __init__(self, number, slice_from, slice_to, sample_length=10, trials=None):\n",
    "        self.number = number\n",
    "        # records = np.arange(1, 7) + (number * 7)\n",
    "        trials = trials or np.arange(3, 7) + (number * 7)\n",
    "        samples = np.arange(0, slice_to - slice_from, sample_length)\n",
    "        self.focus_label = Label('focus', samples, trials, slice_from, slice_to, sample_length)\n",
    "        self.unfocus_label = Label('unfocus', samples, trials, slice_from + 600, slice_to + 600, sample_length)\n",
    "        self.drowsed_label = Label('drowsed', samples, trials, slice_from + 1200, slice_to + 1200, sample_length)\n",
    "\n",
    "\n",
    "class Label:\n",
    "\n",
    "    def __init__(self, label, samples, trials, slice_from, slice_to, sample_length):\n",
    "        self.label = label\n",
    "        self.slice_to = slice_to\n",
    "        self.slice_from = slice_from\n",
    "        self.sample_length = sample_length\n",
    "\n",
    "        topographic = {ch: np.zeros((len(samples) * len(trials), fs + 1, sample_length))\n",
    "                       for ch in channels}\n",
    "        time_signals = {ch: np.zeros((len(samples) * len(trials), fs * sample_length))\n",
    "                       for ch in channels}\n",
    "        for i, trial in enumerate(trials):\n",
    "            trial_data = get_trial_data(trial)\n",
    "            for ch in trial_data.columns:\n",
    "                fft_spectogram = plot_spectrogram(trial_data[ch][slice_from * fs:slice_to * fs], channel_name=ch, fs=fs, fmin=0, fmax=63, show=False)\n",
    "                for j, sample in enumerate(samples):\n",
    "                    # fft_spectogram.shape[1] is 129, probably not divided by sample length.\n",
    "                    actual_sample_length = fft_spectogram[:, sample:sample+sample_length].shape[1]\n",
    "                    topographic[ch][i * len(samples) + j, :, :actual_sample_length] = fft_spectogram[:, sample:sample+sample_length]\n",
    "\n",
    "                    # time domain signal\n",
    "                    time_signals[ch][i * len(samples) + j, :] = trial_data[ch][(slice_from + sample) * fs:(slice_from + sample+sample_length) * fs]\n",
    "\n",
    "        self.topographic = topographic\n",
    "        self.time_signals = time_signals\n",
    "\n",
    "slice_from = 2 * 60\n",
    "slice_to = 9 * 60\n",
    "subject0 = Subject(0, slice_from, slice_to)"
   ],
   "metadata": {
    "collapsed": false
   }
  },
  {
   "cell_type": "code",
   "execution_count": 4,
   "outputs": [],
   "source": [
    "def create_data_set(trials):\n",
    "    dfs = []\n",
    "    for trial in trials:\n",
    "        trial_data = get_trial_data(trial).iloc[:30 * 60 * fs]\n",
    "        trial_data['ts_sample'] = trial_data.index\n",
    "        trial_data['trial'] = trial\n",
    "        trial_data['subject'] = trial // 7\n",
    "        trial_data['label'] = trial_data.index // (10 * 60 * fs)\n",
    "        dfs.append(trial_data)\n",
    "    df = pd.concat(dfs, ignore_index=True)\n",
    "    return df\n",
    "\n",
    "df = create_data_set([3, 4, 5, 6, 7])"
   ],
   "metadata": {
    "collapsed": false
   }
  },
  {
   "cell_type": "code",
   "execution_count": 5,
   "outputs": [
    {
     "data": {
      "text/plain": "              AF3         F7        F3       FC5        T7        P7  \\\n0       -0.241079  18.672493  3.903603  0.654297 -0.244147 -0.180874   \n1       -0.252600  11.530178 -0.646735 -1.364736 -0.251230 -1.332069   \n2       -0.254323  14.704255  1.606917 -0.875217 -0.266992 -0.920235   \n3       -0.265599  17.773842  5.296367  2.215564 -0.273738  0.536253   \n4       -0.267920  16.338601  6.030688  3.237110 -0.290486  0.953128   \n...           ...        ...       ...       ...       ...       ...   \n1151995  0.089910  -6.362355 -5.999113 -0.145249 -2.193949 -3.102257   \n1151996  1.686424  -4.563661 -5.544239  2.413793 -1.286190 -3.032180   \n1151997  1.107759  -3.246932 -6.676752  1.905364 -1.694267 -2.519027   \n1151998 -0.890509  -8.630045 -7.246335 -1.691854 -1.303867 -7.555983   \n1151999  0.587206 -11.919943 -7.347663 -1.684988 -0.683565 -9.607833   \n\n                O1         O2         P8        T8       FC6        F4  \\\n0         8.679878  10.275817   9.483967  0.117731  1.895261  0.044824   \n1         4.914937   3.072823   1.157794  0.117770  5.522281  0.046851   \n2        11.543228   9.394244   4.243965  0.118960  9.775144  0.044350   \n3        12.328250   8.217208   7.218984  0.118524  7.753763  0.045689   \n4        11.745019   2.747784   3.663866  0.119776  6.891651  0.043695   \n...            ...        ...        ...       ...       ...       ...   \n1151995  -2.818757  -2.121525  -7.643784  2.038443 -1.782159 -0.000313   \n1151996  -2.661725  -1.446323  -3.991723  1.084666 -2.321150 -0.000265   \n1151997  -3.015780   2.432445  -1.074235 -0.012125 -2.809865 -0.000221   \n1151998 -10.541277  -3.551215 -11.777958  0.057235 -1.805201 -0.000172   \n1151999 -17.557202  -9.938419 -17.059483  2.039799 -1.786775 -0.000128   \n\n               F8       AF4  ts_sample  trial  subject  label  \n0       -0.222238  0.224840          0      3        0      0  \n1        1.314589 -6.153273          1      3        0      0  \n2        0.783386 -5.293466          2      3        0      0  \n3        0.286773 -2.464811          3      3        0      0  \n4       -0.262150 -4.179449          4      3        0      0  \n...           ...       ...        ...    ...      ...    ...  \n1151995  0.434231 -7.729805     230395      7        1      2  \n1151996 -0.524244 -8.369114     230396      7        1      2  \n1151997 -1.621546 -7.702001     230397      7        1      2  \n1151998 -1.549245 -6.790633     230398      7        1      2  \n1151999 -1.112529 -4.591738     230399      7        1      2  \n\n[1152000 rows x 18 columns]",
      "text/html": "<div>\n<style scoped>\n    .dataframe tbody tr th:only-of-type {\n        vertical-align: middle;\n    }\n\n    .dataframe tbody tr th {\n        vertical-align: top;\n    }\n\n    .dataframe thead th {\n        text-align: right;\n    }\n</style>\n<table border=\"1\" class=\"dataframe\">\n  <thead>\n    <tr style=\"text-align: right;\">\n      <th></th>\n      <th>AF3</th>\n      <th>F7</th>\n      <th>F3</th>\n      <th>FC5</th>\n      <th>T7</th>\n      <th>P7</th>\n      <th>O1</th>\n      <th>O2</th>\n      <th>P8</th>\n      <th>T8</th>\n      <th>FC6</th>\n      <th>F4</th>\n      <th>F8</th>\n      <th>AF4</th>\n      <th>ts_sample</th>\n      <th>trial</th>\n      <th>subject</th>\n      <th>label</th>\n    </tr>\n  </thead>\n  <tbody>\n    <tr>\n      <th>0</th>\n      <td>-0.241079</td>\n      <td>18.672493</td>\n      <td>3.903603</td>\n      <td>0.654297</td>\n      <td>-0.244147</td>\n      <td>-0.180874</td>\n      <td>8.679878</td>\n      <td>10.275817</td>\n      <td>9.483967</td>\n      <td>0.117731</td>\n      <td>1.895261</td>\n      <td>0.044824</td>\n      <td>-0.222238</td>\n      <td>0.224840</td>\n      <td>0</td>\n      <td>3</td>\n      <td>0</td>\n      <td>0</td>\n    </tr>\n    <tr>\n      <th>1</th>\n      <td>-0.252600</td>\n      <td>11.530178</td>\n      <td>-0.646735</td>\n      <td>-1.364736</td>\n      <td>-0.251230</td>\n      <td>-1.332069</td>\n      <td>4.914937</td>\n      <td>3.072823</td>\n      <td>1.157794</td>\n      <td>0.117770</td>\n      <td>5.522281</td>\n      <td>0.046851</td>\n      <td>1.314589</td>\n      <td>-6.153273</td>\n      <td>1</td>\n      <td>3</td>\n      <td>0</td>\n      <td>0</td>\n    </tr>\n    <tr>\n      <th>2</th>\n      <td>-0.254323</td>\n      <td>14.704255</td>\n      <td>1.606917</td>\n      <td>-0.875217</td>\n      <td>-0.266992</td>\n      <td>-0.920235</td>\n      <td>11.543228</td>\n      <td>9.394244</td>\n      <td>4.243965</td>\n      <td>0.118960</td>\n      <td>9.775144</td>\n      <td>0.044350</td>\n      <td>0.783386</td>\n      <td>-5.293466</td>\n      <td>2</td>\n      <td>3</td>\n      <td>0</td>\n      <td>0</td>\n    </tr>\n    <tr>\n      <th>3</th>\n      <td>-0.265599</td>\n      <td>17.773842</td>\n      <td>5.296367</td>\n      <td>2.215564</td>\n      <td>-0.273738</td>\n      <td>0.536253</td>\n      <td>12.328250</td>\n      <td>8.217208</td>\n      <td>7.218984</td>\n      <td>0.118524</td>\n      <td>7.753763</td>\n      <td>0.045689</td>\n      <td>0.286773</td>\n      <td>-2.464811</td>\n      <td>3</td>\n      <td>3</td>\n      <td>0</td>\n      <td>0</td>\n    </tr>\n    <tr>\n      <th>4</th>\n      <td>-0.267920</td>\n      <td>16.338601</td>\n      <td>6.030688</td>\n      <td>3.237110</td>\n      <td>-0.290486</td>\n      <td>0.953128</td>\n      <td>11.745019</td>\n      <td>2.747784</td>\n      <td>3.663866</td>\n      <td>0.119776</td>\n      <td>6.891651</td>\n      <td>0.043695</td>\n      <td>-0.262150</td>\n      <td>-4.179449</td>\n      <td>4</td>\n      <td>3</td>\n      <td>0</td>\n      <td>0</td>\n    </tr>\n    <tr>\n      <th>...</th>\n      <td>...</td>\n      <td>...</td>\n      <td>...</td>\n      <td>...</td>\n      <td>...</td>\n      <td>...</td>\n      <td>...</td>\n      <td>...</td>\n      <td>...</td>\n      <td>...</td>\n      <td>...</td>\n      <td>...</td>\n      <td>...</td>\n      <td>...</td>\n      <td>...</td>\n      <td>...</td>\n      <td>...</td>\n      <td>...</td>\n    </tr>\n    <tr>\n      <th>1151995</th>\n      <td>0.089910</td>\n      <td>-6.362355</td>\n      <td>-5.999113</td>\n      <td>-0.145249</td>\n      <td>-2.193949</td>\n      <td>-3.102257</td>\n      <td>-2.818757</td>\n      <td>-2.121525</td>\n      <td>-7.643784</td>\n      <td>2.038443</td>\n      <td>-1.782159</td>\n      <td>-0.000313</td>\n      <td>0.434231</td>\n      <td>-7.729805</td>\n      <td>230395</td>\n      <td>7</td>\n      <td>1</td>\n      <td>2</td>\n    </tr>\n    <tr>\n      <th>1151996</th>\n      <td>1.686424</td>\n      <td>-4.563661</td>\n      <td>-5.544239</td>\n      <td>2.413793</td>\n      <td>-1.286190</td>\n      <td>-3.032180</td>\n      <td>-2.661725</td>\n      <td>-1.446323</td>\n      <td>-3.991723</td>\n      <td>1.084666</td>\n      <td>-2.321150</td>\n      <td>-0.000265</td>\n      <td>-0.524244</td>\n      <td>-8.369114</td>\n      <td>230396</td>\n      <td>7</td>\n      <td>1</td>\n      <td>2</td>\n    </tr>\n    <tr>\n      <th>1151997</th>\n      <td>1.107759</td>\n      <td>-3.246932</td>\n      <td>-6.676752</td>\n      <td>1.905364</td>\n      <td>-1.694267</td>\n      <td>-2.519027</td>\n      <td>-3.015780</td>\n      <td>2.432445</td>\n      <td>-1.074235</td>\n      <td>-0.012125</td>\n      <td>-2.809865</td>\n      <td>-0.000221</td>\n      <td>-1.621546</td>\n      <td>-7.702001</td>\n      <td>230397</td>\n      <td>7</td>\n      <td>1</td>\n      <td>2</td>\n    </tr>\n    <tr>\n      <th>1151998</th>\n      <td>-0.890509</td>\n      <td>-8.630045</td>\n      <td>-7.246335</td>\n      <td>-1.691854</td>\n      <td>-1.303867</td>\n      <td>-7.555983</td>\n      <td>-10.541277</td>\n      <td>-3.551215</td>\n      <td>-11.777958</td>\n      <td>0.057235</td>\n      <td>-1.805201</td>\n      <td>-0.000172</td>\n      <td>-1.549245</td>\n      <td>-6.790633</td>\n      <td>230398</td>\n      <td>7</td>\n      <td>1</td>\n      <td>2</td>\n    </tr>\n    <tr>\n      <th>1151999</th>\n      <td>0.587206</td>\n      <td>-11.919943</td>\n      <td>-7.347663</td>\n      <td>-1.684988</td>\n      <td>-0.683565</td>\n      <td>-9.607833</td>\n      <td>-17.557202</td>\n      <td>-9.938419</td>\n      <td>-17.059483</td>\n      <td>2.039799</td>\n      <td>-1.786775</td>\n      <td>-0.000128</td>\n      <td>-1.112529</td>\n      <td>-4.591738</td>\n      <td>230399</td>\n      <td>7</td>\n      <td>1</td>\n      <td>2</td>\n    </tr>\n  </tbody>\n</table>\n<p>1152000 rows × 18 columns</p>\n</div>"
     },
     "execution_count": 5,
     "metadata": {},
     "output_type": "execute_result"
    }
   ],
   "source": [
    "df"
   ],
   "metadata": {
    "collapsed": false
   }
  },
  {
   "cell_type": "code",
   "execution_count": 12,
   "outputs": [
    {
     "data": {
      "text/plain": "      level_0  level_1        AF3           F7           F3         FC5  \\\n0           0      127  25.357877  2124.374466   591.380509   53.151116   \n1           1      255   4.109462  3549.051921   895.578083    4.935973   \n2           2      383  10.216768  1685.447400   753.402418   15.617861   \n3           3      511  24.241998  2000.419888  1456.946584  348.530487   \n4           4      639   4.773806    74.515812    72.532591   17.034154   \n...       ...      ...        ...          ...          ...         ...   \n8995     8995  1151487   3.241144    56.340529    57.957592    2.398450   \n8996     8996  1151615   4.211585    66.928787    95.590741    3.313154   \n8997     8997  1151743   3.790368   362.550289   463.143520    3.551659   \n8998     8998  1151871   3.908863   133.959457   157.247654    2.588597   \n8999     8999  1151999   3.780442    39.664100    25.490300    3.055153   \n\n             T7           P7           O1            O2           P8  \\\n0      3.762714   626.996370  1043.287750   1592.343067   803.713534   \n1      2.429660  1119.816683  4846.676498  11730.174531   464.146193   \n2      2.495635  1262.820959  3211.231715   4065.692989   786.543245   \n3     20.033104  1171.665434  2112.229061   2212.752086  1540.948703   \n4      0.608673   112.410020   185.728771    455.563467   247.471269   \n...         ...          ...          ...           ...          ...   \n8995   6.990153    57.361707   529.408693     75.736977    57.582960   \n8996   9.457415    95.134279   803.409509     55.928795    92.450975   \n8997   4.424311   580.329004  2347.960966    452.285872   715.451862   \n8998   7.351878   164.148822   147.796359    180.885744   186.554081   \n8999   3.242266    41.583676    40.258415     51.198937    60.016152   \n\n             T8          FC6            F4         F8          AF4  label  \n0      0.825309   858.540301  5.358026e-01   9.635931   293.772350      0  \n1      3.695099    47.056097  2.875960e-02   1.739605  1295.712996      0  \n2      1.138012   594.325193  1.901822e-01   5.297749   815.308515      0  \n3      0.223475  5641.646997  2.179878e+00  17.403679  1302.446334      0  \n4      4.743169   496.009370  2.774916e-01   5.092447   154.180710      0  \n...         ...          ...           ...        ...          ...    ...  \n8995  11.596293     3.065674  4.800543e-06   0.483963    52.466752      2  \n8996   9.339025     2.962043  1.664122e-06   1.553185   155.739279      2  \n8997   6.763233     2.762448  1.015088e-06   0.556263   576.408082      2  \n8998   3.127393     3.327528  4.764704e-07   0.434529    98.128275      2  \n8999   5.535361     3.093790  3.397368e-07   0.744155    35.944867      2  \n\n[9000 rows x 17 columns]",
      "text/html": "<div>\n<style scoped>\n    .dataframe tbody tr th:only-of-type {\n        vertical-align: middle;\n    }\n\n    .dataframe tbody tr th {\n        vertical-align: top;\n    }\n\n    .dataframe thead th {\n        text-align: right;\n    }\n</style>\n<table border=\"1\" class=\"dataframe\">\n  <thead>\n    <tr style=\"text-align: right;\">\n      <th></th>\n      <th>level_0</th>\n      <th>level_1</th>\n      <th>AF3</th>\n      <th>F7</th>\n      <th>F3</th>\n      <th>FC5</th>\n      <th>T7</th>\n      <th>P7</th>\n      <th>O1</th>\n      <th>O2</th>\n      <th>P8</th>\n      <th>T8</th>\n      <th>FC6</th>\n      <th>F4</th>\n      <th>F8</th>\n      <th>AF4</th>\n      <th>label</th>\n    </tr>\n  </thead>\n  <tbody>\n    <tr>\n      <th>0</th>\n      <td>0</td>\n      <td>127</td>\n      <td>25.357877</td>\n      <td>2124.374466</td>\n      <td>591.380509</td>\n      <td>53.151116</td>\n      <td>3.762714</td>\n      <td>626.996370</td>\n      <td>1043.287750</td>\n      <td>1592.343067</td>\n      <td>803.713534</td>\n      <td>0.825309</td>\n      <td>858.540301</td>\n      <td>5.358026e-01</td>\n      <td>9.635931</td>\n      <td>293.772350</td>\n      <td>0</td>\n    </tr>\n    <tr>\n      <th>1</th>\n      <td>1</td>\n      <td>255</td>\n      <td>4.109462</td>\n      <td>3549.051921</td>\n      <td>895.578083</td>\n      <td>4.935973</td>\n      <td>2.429660</td>\n      <td>1119.816683</td>\n      <td>4846.676498</td>\n      <td>11730.174531</td>\n      <td>464.146193</td>\n      <td>3.695099</td>\n      <td>47.056097</td>\n      <td>2.875960e-02</td>\n      <td>1.739605</td>\n      <td>1295.712996</td>\n      <td>0</td>\n    </tr>\n    <tr>\n      <th>2</th>\n      <td>2</td>\n      <td>383</td>\n      <td>10.216768</td>\n      <td>1685.447400</td>\n      <td>753.402418</td>\n      <td>15.617861</td>\n      <td>2.495635</td>\n      <td>1262.820959</td>\n      <td>3211.231715</td>\n      <td>4065.692989</td>\n      <td>786.543245</td>\n      <td>1.138012</td>\n      <td>594.325193</td>\n      <td>1.901822e-01</td>\n      <td>5.297749</td>\n      <td>815.308515</td>\n      <td>0</td>\n    </tr>\n    <tr>\n      <th>3</th>\n      <td>3</td>\n      <td>511</td>\n      <td>24.241998</td>\n      <td>2000.419888</td>\n      <td>1456.946584</td>\n      <td>348.530487</td>\n      <td>20.033104</td>\n      <td>1171.665434</td>\n      <td>2112.229061</td>\n      <td>2212.752086</td>\n      <td>1540.948703</td>\n      <td>0.223475</td>\n      <td>5641.646997</td>\n      <td>2.179878e+00</td>\n      <td>17.403679</td>\n      <td>1302.446334</td>\n      <td>0</td>\n    </tr>\n    <tr>\n      <th>4</th>\n      <td>4</td>\n      <td>639</td>\n      <td>4.773806</td>\n      <td>74.515812</td>\n      <td>72.532591</td>\n      <td>17.034154</td>\n      <td>0.608673</td>\n      <td>112.410020</td>\n      <td>185.728771</td>\n      <td>455.563467</td>\n      <td>247.471269</td>\n      <td>4.743169</td>\n      <td>496.009370</td>\n      <td>2.774916e-01</td>\n      <td>5.092447</td>\n      <td>154.180710</td>\n      <td>0</td>\n    </tr>\n    <tr>\n      <th>...</th>\n      <td>...</td>\n      <td>...</td>\n      <td>...</td>\n      <td>...</td>\n      <td>...</td>\n      <td>...</td>\n      <td>...</td>\n      <td>...</td>\n      <td>...</td>\n      <td>...</td>\n      <td>...</td>\n      <td>...</td>\n      <td>...</td>\n      <td>...</td>\n      <td>...</td>\n      <td>...</td>\n      <td>...</td>\n    </tr>\n    <tr>\n      <th>8995</th>\n      <td>8995</td>\n      <td>1151487</td>\n      <td>3.241144</td>\n      <td>56.340529</td>\n      <td>57.957592</td>\n      <td>2.398450</td>\n      <td>6.990153</td>\n      <td>57.361707</td>\n      <td>529.408693</td>\n      <td>75.736977</td>\n      <td>57.582960</td>\n      <td>11.596293</td>\n      <td>3.065674</td>\n      <td>4.800543e-06</td>\n      <td>0.483963</td>\n      <td>52.466752</td>\n      <td>2</td>\n    </tr>\n    <tr>\n      <th>8996</th>\n      <td>8996</td>\n      <td>1151615</td>\n      <td>4.211585</td>\n      <td>66.928787</td>\n      <td>95.590741</td>\n      <td>3.313154</td>\n      <td>9.457415</td>\n      <td>95.134279</td>\n      <td>803.409509</td>\n      <td>55.928795</td>\n      <td>92.450975</td>\n      <td>9.339025</td>\n      <td>2.962043</td>\n      <td>1.664122e-06</td>\n      <td>1.553185</td>\n      <td>155.739279</td>\n      <td>2</td>\n    </tr>\n    <tr>\n      <th>8997</th>\n      <td>8997</td>\n      <td>1151743</td>\n      <td>3.790368</td>\n      <td>362.550289</td>\n      <td>463.143520</td>\n      <td>3.551659</td>\n      <td>4.424311</td>\n      <td>580.329004</td>\n      <td>2347.960966</td>\n      <td>452.285872</td>\n      <td>715.451862</td>\n      <td>6.763233</td>\n      <td>2.762448</td>\n      <td>1.015088e-06</td>\n      <td>0.556263</td>\n      <td>576.408082</td>\n      <td>2</td>\n    </tr>\n    <tr>\n      <th>8998</th>\n      <td>8998</td>\n      <td>1151871</td>\n      <td>3.908863</td>\n      <td>133.959457</td>\n      <td>157.247654</td>\n      <td>2.588597</td>\n      <td>7.351878</td>\n      <td>164.148822</td>\n      <td>147.796359</td>\n      <td>180.885744</td>\n      <td>186.554081</td>\n      <td>3.127393</td>\n      <td>3.327528</td>\n      <td>4.764704e-07</td>\n      <td>0.434529</td>\n      <td>98.128275</td>\n      <td>2</td>\n    </tr>\n    <tr>\n      <th>8999</th>\n      <td>8999</td>\n      <td>1151999</td>\n      <td>3.780442</td>\n      <td>39.664100</td>\n      <td>25.490300</td>\n      <td>3.055153</td>\n      <td>3.242266</td>\n      <td>41.583676</td>\n      <td>40.258415</td>\n      <td>51.198937</td>\n      <td>60.016152</td>\n      <td>5.535361</td>\n      <td>3.093790</td>\n      <td>3.397368e-07</td>\n      <td>0.744155</td>\n      <td>35.944867</td>\n      <td>2</td>\n    </tr>\n  </tbody>\n</table>\n<p>9000 rows × 17 columns</p>\n</div>"
     },
     "execution_count": 12,
     "metadata": {},
     "output_type": "execute_result"
    }
   ],
   "source": [
    "# def create_df_features(df, feature, time_slot):\n",
    "#     feature_result = pd.DataFrame(columns=df.columns)\n",
    "#     trials = df['trial'].unique()\n",
    "#     for trial in trials:\n",
    "#         for ch in channels:\n",
    "#             feature_result[ch] = df[df['trial'] == trial, ch]\n",
    "grouped_df = df.groupby(df.index // fs)\n",
    "features_df = grouped_df[channels].rolling(128).var().dropna()\n",
    "features_df['label'] = grouped_df['label'].rolling(128).max().dropna().astype(np.int8)\n",
    "features_df = features_df.reset_index()\n",
    "features_df\n",
    "# features_df['ts_sample'] = grouped_df['ts_sample'].rolling(128).max() // 128\n",
    "# print(features_df)"
   ],
   "metadata": {
    "collapsed": false
   }
  },
  {
   "cell_type": "markdown",
   "source": [
    "# AutoGluon Models"
   ],
   "metadata": {
    "collapsed": false
   }
  },
  {
   "cell_type": "code",
   "execution_count": null,
   "outputs": [],
   "source": [
    "from autogluon.tabular import TabularPredictor\n",
    "import pandas as pd\n",
    "\n",
    "# Load your dataframe\n",
    "df = pd.read_csv('your_data.csv')\n",
    "\n",
    "# Split the dataframe into features (X) and target variable (y)\n",
    "X = df.drop(columns=['target_column'])\n",
    "y = df['target_column']\n",
    "\n",
    "# Define the problem type (classification or regression)\n",
    "problem_type = 'classification'  # or 'regression' depending on your task\n",
    "\n",
    "# Define the AutoGluon TabularPredictor\n",
    "predictor = TabularPredictor(label='target_column', problem_type=problem_type)\n",
    "\n",
    "# Train the AutoGluon model\n",
    "predictor.fit(train_data=X, tuning_data=X, time_limit=3600)  # Adjust the time_limit as needed\n",
    "\n",
    "# Make predictions on new data\n",
    "new_data = pd.read_csv('new_data.csv')\n",
    "predictions = predictor.predict(new_data)\n",
    "\n",
    "# Evaluate the model\n",
    "leaderboard = predictor.leaderboard()\n",
    "\n",
    "# Print the leaderboard\n",
    "print(leaderboard)\n"
   ],
   "metadata": {
    "collapsed": false
   }
  },
  {
   "cell_type": "code",
   "execution_count": null,
   "outputs": [],
   "source": [],
   "metadata": {
    "collapsed": false
   }
  }
 ],
 "metadata": {
  "kernelspec": {
   "display_name": "Python 3",
   "language": "python",
   "name": "python3"
  },
  "language_info": {
   "codemirror_mode": {
    "name": "ipython",
    "version": 2
   },
   "file_extension": ".py",
   "mimetype": "text/x-python",
   "name": "python",
   "nbconvert_exporter": "python",
   "pygments_lexer": "ipython2",
   "version": "2.7.6"
  }
 },
 "nbformat": 4,
 "nbformat_minor": 0
}
